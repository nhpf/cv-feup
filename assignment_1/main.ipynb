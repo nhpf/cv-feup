{
 "cells": [
  {
   "cell_type": "markdown",
   "metadata": {
    "collapsed": true
   },
   "source": [
    "# Assignment 1\n",
    "\n",
    "FEUP Mar 2023 - Computer Vision (CV) curricular unit\n",
    "\n",
    "Team members:\n",
    " - Nicholas Hopf\n",
    " - Rodrigo Gomes\n",
    " - Rui Colaço\n",
    "\n",
    "## Context\n",
    "\n",
    "The quality assurance tester of a M&M factory retrieves a sample from the production every hour to determine some properties of chocolate peanuts. The factory uses a computer vision application to automatically calculate some properties of the sample, namely:\n",
    "\n",
    " - the distribution of each color in the sample, e.g., the number of red (or blue or …) chocolates. At the end, if the sample does not have chocolate peanuts of all colors, the system must raise an alarm by printing \"Color XPTO is missing\".\n",
    "\n",
    " - the average shape area of all chocolate peanuts in millimeters and organized by color.\n",
    "\n",
    "> TODO: Add base64 image here\n",
    "\n",
    "Considering these requirements:"
   ]
  },
  {
   "cell_type": "markdown",
   "metadata": {},
   "source": [
    "a) Calibrate the intrinsic parameters and lens distortion of the camera. Show the intrinsic matrix and the lens distortion coefficients."
   ]
  },
  {
   "cell_type": "code",
   "execution_count": 4,
   "metadata": {},
   "outputs": [
    {
     "name": "stdout",
     "output_type": "stream",
     "text": [
      "Intrinsic Matrix = \n",
      "\t[[1321.65     0.     988.3  ]\n",
      "\t [   0.    1324.446  642.259]\n",
      "\t [   0.       0.       1.   ]]\n",
      "\n",
      "Lens Distortion coefficients =\n",
      "\t [[-0.344  0.09   0.    -0.    -0.003]]\n"
     ]
    }
   ],
   "source": [
    "# Import dependencies\n",
    "import numpy as np\n",
    "import cv2\n",
    "import glob\n",
    "\n",
    "# Disclaimer: this code was partly inspired by the following sources\n",
    "# A set of scripts that I wrote and made publicly available in 2020 on GitHub https://github.com/nhpf/opencv-classes\n",
    "# The official OpenCV documentation https://docs.opencv.org/4.x/dc/dbb/tutorial_py_calibration.html\n",
    "\n",
    "# Calibration criteria. We perform 30 iterations with 0.001 subpixel precision\n",
    "criteria = (cv2.TERM_CRITERIA_EPS + cv2.TERM_CRITERIA_MAX_ITER, 30, 0.001)\n",
    "\n",
    "\n",
    "def calibrate(is_extrinsic, square_size_mm=22, width=7, height=4):\n",
    "    \"\"\"Takes images from IntrinsicCalibration directory and returns calibration parameters K, D\"\"\"\n",
    "    # prepare object points, like (0,0,0), (1,0,0), (2,0,0) ....,(6,3,0)\n",
    "    objp = np.zeros((height * width, 3), np.float32)\n",
    "    objp[:, :2] = np.mgrid[0:width, 0:height].T.reshape(-1, 2)\n",
    "\n",
    "    # Scale the board to real size in millimeters\n",
    "    if is_extrinsic:\n",
    "        objp = objp * square_size_mm\n",
    "\n",
    "    # Lists to store points of each image\n",
    "    objpoints = []  # 3d image points\n",
    "    imgpoints = []  # 2d points at the chessboard plane\n",
    "\n",
    "    # Iterate over the calibration images\n",
    "    images = glob.glob(\"./IntrinsicCalibration/*.png\")\n",
    "    for fname in images:\n",
    "        # Reads each image and converts it into grayscale\n",
    "        img = cv2.imread(fname)\n",
    "        gray = cv2.cvtColor(img, cv2.COLOR_BGR2GRAY)\n",
    "\n",
    "        # Find the chessboard corners\n",
    "        ret, corners = cv2.findChessboardCorners(gray, (width, height), None)\n",
    "\n",
    "        # If found\n",
    "        if ret:\n",
    "            # Adds 3d points to objpoints list\n",
    "            objpoints.append(objp)\n",
    "\n",
    "            # Adjusts the detected chessboard corners according to precision criteria\n",
    "            corners2 = cv2.cornerSubPix(gray, corners, (11, 11), (-1, -1), criteria)\n",
    "            # Adds the adjusted corners to imgpoints list\n",
    "            imgpoints.append(corners2)\n",
    "\n",
    "            # This function draws the chessboard corners - used only for debugging\n",
    "            # img = cv2.drawChessboardCorners(img, (width, height), corners2, ret)\n",
    "\n",
    "    # Use the function calibrateCamera to generate correction matrix\n",
    "    _, mtx, dist, _, _ = cv2.calibrateCamera(\n",
    "        objpoints, imgpoints, gray.shape[::-1], None, None\n",
    "    )\n",
    "    return mtx, dist\n",
    "\n",
    "mtx, dist = calibrate(is_extrinsic=False, square_size_mm=22, width=7, height=4)\n",
    "\n",
    "# Print the results\n",
    "np.set_printoptions(precision=3, suppress=True)\n",
    "print(\"Intrinsic Matrix = \")\n",
    "print(\"\\t\" + str(mtx).replace('\\n', '\\n\\t'))\n",
    "print(\"\\nLens Distortion coefficients =\\n\\t\", dist)\n"
   ]
  },
  {
   "cell_type": "markdown",
   "metadata": {},
   "source": [
    "With the script above we were able to calculate the intrinsic matrix $K$ in **pixel units**, where each matrix element corresponds to:\n",
    "\n",
    " - $(c_x, c_y)$ as the pixel coordinates of the camera optical center.\n",
    " - $(f_x, f_y)$ as two focal lengths since pixels in the imaging sensor may not be square.\n",
    " - $\\gamma$ is a small skew between the x and y axes of the camera sensor.\n",
    "\n",
    "Presented in the format:\n",
    "$$K = \\begin{bmatrix}f_x & \\gamma & c_x\\\\ 0 & f_y & c_y\\\\ 0 & 0 & 1\\end{bmatrix}$$\n",
    "\n",
    "While we also obtained the value of the distortion coefficients:\n",
    "\n",
    " - $(k_1, k_2, k_3)$ that represent the radial distortion\n",
    " - $(p_1, p_2)$ that represent the tangential distortion\n",
    "\n",
    "Presented in the format:\n",
    "$$D = \\begin{bmatrix}k_1 & k_2 & p_1 & p_2 & k_3\\end{bmatrix}$$"
   ]
  },
  {
   "cell_type": "markdown",
   "metadata": {},
   "source": [
    "b) Calibrate the extrinsic parameters of the camera setup (or instead, use the extrinsic image to manually measure the dimensions of a black square of the chessboard in pixels. In this way, you will know the conversion between pixel to millimeter). Show the extrinsic matrix (rotation, translation, etc) and/or the conversion ratio between pixel to millimeter that was used."
   ]
  },
  {
   "cell_type": "code",
   "execution_count": 3,
   "metadata": {},
   "outputs": [],
   "source": []
  },
  {
   "cell_type": "markdown",
   "metadata": {},
   "source": [
    "c) Consider only the images retrieved from a White Background. Implement the functions described above.\n",
    "1. Define a ROI (region of interest) for the image;\n",
    "2. Calculate the number of M&M per color for all images provided;\n",
    "3. Determine the average area for peanuts in pixels, considering the image \"calib_img 3\";\n",
    "    1. Show all peanuts that were detected.\n",
    "    2. Discuss the limitations of the peanut detection method used (in 2 sentences).\n",
    "4. Determine the average area (and standard deviation) for peanuts in millimeters and grouped by color, considering images \"calib_img_2\" and \"calib_img 3\".\n",
    "    1. Show the result in a table color vs area and standard deviation.\n",
    "    2. Discuss the limitation of the method implemented (in 2 sentences).\n",
    "5. Provide some recommendations that the M&M factory should take into consideration to improve the performance of the quality assurance process based on image processing (e.g., imaging setup, calibration process and photometric effects), in 4 sentences."
   ]
  },
  {
   "cell_type": "code",
   "execution_count": 3,
   "metadata": {},
   "outputs": [],
   "source": []
  },
  {
   "cell_type": "markdown",
   "metadata": {},
   "source": [
    "d) (5 points) Consider the images retrieved from a Grey Background and repeat the previous point without defining a region of interest."
   ]
  },
  {
   "cell_type": "code",
   "execution_count": 3,
   "metadata": {},
   "outputs": [],
   "source": []
  }
 ],
 "metadata": {
  "kernelspec": {
   "display_name": "Python 3 (ipykernel)",
   "language": "python",
   "name": "python3"
  },
  "language_info": {
   "codemirror_mode": {
    "name": "ipython",
    "version": 3
   },
   "file_extension": ".py",
   "mimetype": "text/x-python",
   "name": "python",
   "nbconvert_exporter": "python",
   "pygments_lexer": "ipython3",
   "version": "3.10.9"
  }
 },
 "nbformat": 4,
 "nbformat_minor": 1
}
